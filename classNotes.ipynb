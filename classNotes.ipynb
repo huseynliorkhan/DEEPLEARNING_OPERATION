{
 "cells": [
  {
   "cell_type": "markdown",
   "id": "62723177-fac7-4cd8-acbc-7e35e28ba27b",
   "metadata": {},
   "source": [
    "### Optimizers:\n",
    "\n",
    "An optimizer is an algorithm or method used to adjust the parameters (e.g., weights and biases) of a neural network in order to minimize the loss function. Optimizers guide the training process based on the computed gradients.\n",
    "\n",
    "### Why are they needed?\n",
    "\n",
    "1. **Navigating the Loss Landscape**: The loss function of a neural network can be visualized as a high-dimensional landscape with valleys, hills, plateaus, and saddle points. The goal is to find the lowest point (global minimum) of this landscape where the loss is the smallest. Optimizers help the model navigate this landscape efficiently.\n",
    "   \n",
    "2. **Stabilizing Learning**: Simply updating the parameters using raw gradients can be unstable and may not converge. Optimizers use various techniques to stabilize and accelerate the learning process.\n",
    "   \n",
    "3. **Avoiding Local Minima**: Some optimizers use momentum-based techniques to avoid getting stuck in local minima and saddle points.\n",
    "\n",
    "### At which step are they implemented?\n",
    "\n",
    "The optimizers are used in the training loop, specifically during the parameter update step after the gradients are computed:\n",
    "\n",
    "1. **Forward Pass**: Input data is passed through the network to get predictions.\n",
    "2. **Loss Computation**: The difference between predictions and actual values is computed (this is the loss).\n",
    "3. **Backward Pass**: Gradients of the loss with respect to model parameters are computed using backpropagation.\n",
    "4. **Parameter Update (Optimizer's Role)**: The optimizer updates the model's parameters using the computed gradients.\n",
    "\n",
    "### How do they fit into the neural netw calculation step?\n",
    "\n",
    "1. **Basic Update (like Gradient Descent)**:\n",
    "   - Weights are adjusted in the opposite direction by a factor of learning rate\n",
    "\n",
    "2. **Momentum**:\n",
    "   - Incorporates the gradient from the previous step to provide a sense of \"momentum.\" This helps in navigating plateaus and vallein the loss landscape.\n",
    "     \n",
    "3. **Adaptive Learning Rates**:\n",
    "   - Algorithms like AdaGrad, RMSProp, and Adam adjust the learning rates of each parameter dynamically. This on helps in faster convergence.\n",
    "\n",
    "4. **Regularization**:\n",
    "   - Some optimizers incorporate regularization directly into the update step, helping in preventing overfitting.\n",
    "\n",
    "### Summary:\n",
    "\n",
    "Optimizers play a crucial role in the training of neural networks. They define how the model's parameters are adjusted in response to the computed error. Without optimizers, training a neural network to convergence would be computationally inefficient and, in many cases, practically infeasible. The choice of optimizer and its parameters (like learning rate) can significantly impact the efficiency and quality of the training process.iency and quality of the training process."
   ]
  },
  {
   "cell_type": "code",
   "execution_count": 18,
   "id": "8ad9dbd5-7b8e-42a2-a3f2-202e5013d630",
   "metadata": {},
   "outputs": [
    {
     "data": {
      "text/plain": [
       "0"
      ]
     },
     "execution_count": 18,
     "metadata": {},
     "output_type": "execute_result"
    }
   ],
   "source": [
    "def relu(x):\n",
    "    return max(0, x)\n",
    "\n",
    "relu(-5)\n",
    "    "
   ]
  },
  {
   "cell_type": "code",
   "execution_count": null,
   "id": "95d4fde6-3f2f-4d17-af1a-a8ab8f4459e3",
   "metadata": {},
   "outputs": [],
   "source": []
  },
  {
   "cell_type": "code",
   "execution_count": 19,
   "id": "a468d474-c8da-4d4e-8997-ed466bb3f01d",
   "metadata": {},
   "outputs": [
    {
     "data": {
      "text/plain": [
       "(0.33669036626815796, 0.12880940735340118)"
      ]
     },
     "execution_count": 19,
     "metadata": {},
     "output_type": "execute_result"
    }
   ],
   "source": [
    "# Importing required libraries\n",
    "import torch\n",
    "\n",
    "# Random seed for reproducibility\n",
    "torch.manual_seed(42)\n",
    "# np.random.seed(42)\n",
    "\n",
    "\n",
    "# Define weight and bias, initialized randomly\n",
    "w = torch.randn(1, requires_grad=True)  # Weight\n",
    "b = torch.randn(1, requires_grad=True)  # Bias\n",
    "\n",
    "# Sample data\n",
    "# x = np.array([1.0, 2.0, 3.0, 4.0, 5.0])\n",
    "x = torch.tensor([1.0, 2.0, 3.0, 4.0, 5.0])\n",
    "y_true = torch.tensor([2.0, 4.0, 6 ,8, 10])\n",
    "\n",
    "# Display initial weight and bias\n",
    "w.item(), b.item()\n"
   ]
  },
  {
   "cell_type": "code",
   "execution_count": 20,
   "id": "19105ff1-63d1-4be9-b444-43be4ef9181c",
   "metadata": {},
   "outputs": [
    {
     "data": {
      "text/plain": [
       "(tensor([-35.8200]), tensor([-9.7222]))"
      ]
     },
     "execution_count": 20,
     "metadata": {},
     "output_type": "execute_result"
    }
   ],
   "source": [
    "# Define a simple linear model\n",
    "def model(x, w, b):\n",
    "    return w * x + b\n",
    "\n",
    "# Define the Mean Squared Error loss function\n",
    "def mse_loss(y_pred, y_true):\n",
    "    return ((y_pred - y_true) ** 2).mean()\n",
    "\n",
    "# Forward pass\n",
    "y_pred = model(x, w, b)\n",
    "\n",
    "# Compute the loss\n",
    "loss = mse_loss(y_pred, y_true)\n",
    "\n",
    "# Backward pass (computes the gradients)\n",
    "loss.backward()\n",
    "\n",
    "# Gradients for weight and bias\n",
    "w.grad, b.grad\n"
   ]
  },
  {
   "cell_type": "code",
   "execution_count": 21,
   "id": "9cd31de6-6124-427a-8a72-4a094b23e924",
   "metadata": {},
   "outputs": [
    {
     "data": {
      "text/plain": [
       "(tensor([-27.3562]), tensor([-7.3786]))"
      ]
     },
     "execution_count": 21,
     "metadata": {},
     "output_type": "execute_result"
    }
   ],
   "source": [
    "## we do another step\n",
    "\n",
    "# Define the learning rate\n",
    "lr = 0.01\n",
    "\n",
    "# Update weights and biases using the computed gradients\n",
    "with torch.no_grad():\n",
    "    w -= lr * w.grad\n",
    "    b -= lr * b.grad\n",
    "\n",
    "# Zero out the gradients for the next iteration\n",
    "w.grad.zero_()\n",
    "b.grad.zero_()\n",
    "\n",
    "# Forward pass with updated weights and biases\n",
    "y_pred = model(x, w, b)\n",
    "\n",
    "# Compute the loss with updated weights and biases\n",
    "loss = mse_loss(y_pred, y_true)\n",
    "\n",
    "# Compute the gradients again after updating\n",
    "loss.backward()\n",
    "\n",
    "# New gradients for weight and bias\n",
    "w.grad, b.grad\n"
   ]
  },
  {
   "cell_type": "code",
   "execution_count": 23,
   "id": "ac85c335-b3d7-4b01-ad78-37b3aa439a57",
   "metadata": {},
   "outputs": [
    {
     "data": {
      "text/plain": [
       "tensor([0.2260], requires_grad=True)"
      ]
     },
     "execution_count": 23,
     "metadata": {},
     "output_type": "execute_result"
    }
   ],
   "source": [
    "b # not arashdir.."
   ]
  },
  {
   "cell_type": "code",
   "execution_count": 22,
   "id": "9e2d48af-19d6-42bd-a50e-5afadc2d199d",
   "metadata": {},
   "outputs": [
    {
     "data": {
      "text/plain": [
       "tensor([0.6949], requires_grad=True)"
      ]
     },
     "execution_count": 22,
     "metadata": {},
     "output_type": "execute_result"
    }
   ],
   "source": [
    "w"
   ]
  },
  {
   "cell_type": "code",
   "execution_count": 26,
   "id": "c12a379f-93a1-40a3-a3ef-b8ea56a816de",
   "metadata": {},
   "outputs": [
    {
     "data": {
      "text/plain": [
       "(0.33669036626815796, 1.9948710203170776)"
      ]
     },
     "execution_count": 26,
     "metadata": {},
     "output_type": "execute_result"
    }
   ],
   "source": [
    "### now we \"train\"\n",
    "# Reinitialize weight and bias\n",
    "torch.manual_seed(42)\n",
    "w = torch.randn(1, requires_grad=True)  # Weight\n",
    "b = torch.randn(1, requires_grad=True)  # Bias\n",
    "\n",
    "# Define the learning rate\n",
    "lr = 0.01\n",
    "\n",
    "activ = lambda x: x\n",
    "\n",
    "# Store initial weight for comparison\n",
    "initial_weight = w.item()\n",
    "\n",
    "# Training loop with Gradient Descent for 10 iterations\n",
    "for epoch in range(1000):\n",
    "    # Forward pass\n",
    "    y_pred = model(x, w, b)\n",
    "    # Compute the loss\n",
    "\n",
    "    loss = mse_loss(y_pred, y_true)\n",
    "    # Backward pass, gradient\n",
    "    loss.backward()\n",
    "    # Update weights and biases using Gradient Descent\n",
    "    with torch.no_grad():\n",
    "        w -= lr * w.grad\n",
    "        b -= lr * b.grad\n",
    "        # Zero out the gradients for the next iteration\n",
    "        w.grad.zero_()\n",
    "        b.grad.zero_()\n",
    "\n",
    "# Return the initial and final weights\n",
    "initial_weight, w.item()\n"
   ]
  },
  {
   "cell_type": "code",
   "execution_count": 27,
   "id": "c996d2a6-f0d4-44bd-b863-1f0e5991d6d7",
   "metadata": {},
   "outputs": [
    {
     "data": {
      "text/plain": [
       "0.01851714216172695"
      ]
     },
     "execution_count": 27,
     "metadata": {},
     "output_type": "execute_result"
    }
   ],
   "source": [
    "b.item()"
   ]
  },
  {
   "cell_type": "code",
   "execution_count": 11,
   "id": "2c938d60-e4c5-4768-bd1e-30f5cdf44363",
   "metadata": {},
   "outputs": [
    {
     "data": {
      "text/plain": [
       "tensor(0.0005, grad_fn=<MeanBackward0>)"
      ]
     },
     "execution_count": 11,
     "metadata": {},
     "output_type": "execute_result"
    }
   ],
   "source": [
    "loss"
   ]
  },
  {
   "cell_type": "raw",
   "id": "9101a98a-d558-4925-95b2-155210162799",
   "metadata": {},
   "source": [
    "y_real = x^3 + 3\n",
    "y_pred = x * w + b"
   ]
  },
  {
   "cell_type": "code",
   "execution_count": 51,
   "id": "0ab1f0f8-5be9-499a-8d8f-f8879c9f1b63",
   "metadata": {},
   "outputs": [
    {
     "data": {
      "text/plain": [
       "-38.71831512451172"
      ]
     },
     "execution_count": 51,
     "metadata": {},
     "output_type": "execute_result"
    }
   ],
   "source": [
    "b.item(\n",
    ")"
   ]
  },
  {
   "cell_type": "code",
   "execution_count": null,
   "id": "57c297a7-99c0-4e41-bf73-64b089379dae",
   "metadata": {},
   "outputs": [],
   "source": [
    "y = w_1 * x_1 + w_2 * x_2 \n",
    "d_y_w_1 = x_1 + 0\n",
    "d_y_w_2 = x_2 + 0"
   ]
  },
  {
   "cell_type": "markdown",
   "id": "3e301701-f9df-4171-9b17-7d3169bd6b0e",
   "metadata": {},
   "source": [
    "## GRADIENT EXPLANATION TODO - > SEND ARTICLE"
   ]
  },
  {
   "cell_type": "code",
   "execution_count": 49,
   "id": "9ee3eab5-bd3a-4ce4-9c03-9b3399747fce",
   "metadata": {},
   "outputs": [
    {
     "data": {
      "text/plain": [
       "(10.0, 2.0396015644073486, 0.8570307493209839)"
      ]
     },
     "execution_count": 49,
     "metadata": {},
     "output_type": "execute_result"
    }
   ],
   "source": [
    "## Now try with some activation function\n",
    "\n",
    "\n",
    "\n",
    "\n",
    "# Define the ReLU activation function -> relu is either zero or x, whichever is higher\n",
    "def relu(x):\n",
    "    return torch.max(torch.tensor(0.0), x)\n",
    "\n",
    "# exactly the same thing\n",
    "def relu_2(x):\n",
    "    return max(0, x)\n",
    "\n",
    "# Reinitialize weight and bias\n",
    "#torch.manual_seed(42)\n",
    "w = torch.tensor(10.0, requires_grad=True)\n",
    "b = torch.tensor(3.0, requires_grad=True)\n",
    "#w = torch.randn(1, requires_grad=True)\n",
    "#b = torch.randn(1, requires_grad=True)\n",
    "\n",
    "# Sample data\n",
    "x = torch.tensor([1.0, 2.0, 3.0, 4.0, 5.0])\n",
    "y_true = torch.tensor([3.0, 5.0, 7.0, 9.0, 11.0])\n",
    "\n",
    "# w_true = 2, b_true = 1\n",
    "\n",
    "# Store initial weight for comparison\n",
    "initial_weight_with_relu = w.item()\n",
    "\n",
    "\n",
    "\n",
    "# Define the learning rate again\n",
    "lr = 0.001\n",
    "\n",
    "# Training loop with Gradient Descent and ReLU activation for 20 iterations\n",
    "for epoch in range(1000):\n",
    "    # Forward pass with ReLU activation\n",
    "    y_pred = relu(model(x, w, b))\n",
    "    # Compute the loss\n",
    "    loss = mse_loss(y_pred, y_true)\n",
    "    # Backward pass (computes the gradients)\n",
    "    loss.backward()\n",
    "    # Update weights and biases using Gradient Descent\n",
    "    with torch.no_grad():\n",
    "        w -= lr * w.grad\n",
    "        b -= lr * b.grad\n",
    "        # Zero out the gradients for the next iteration\n",
    "        w.grad.zero_()\n",
    "        b.grad.zero_()\n",
    "\n",
    "# Return the initial and final weights with ReLU activation\n",
    "initial_weight_with_relu, w.item(), b.item()\n"
   ]
  },
  {
   "cell_type": "code",
   "execution_count": 57,
   "id": "7c7b849b-2c9c-4596-b98b-282f371d888d",
   "metadata": {},
   "outputs": [
    {
     "data": {
      "text/plain": [
       "tensor(155.1297, grad_fn=<MeanBackward0>)"
      ]
     },
     "execution_count": 57,
     "metadata": {},
     "output_type": "execute_result"
    }
   ],
   "source": [
    "loss"
   ]
  },
  {
   "cell_type": "markdown",
   "id": "0b9ccd68-44d5-42f5-9b23-8c785ef1249d",
   "metadata": {},
   "source": [
    "### Why we randomly initialize weights?\n",
    "\n",
    "The initialization of weights in neural networks is crucial for the learning process. Starting with random weights is a common practice, and here's why it's important:\r\n",
    "\r\n",
    "1. **Breaking Symmetry**: If all weights are initialized with the same value, every neuron in a given layer will produce the same output during the forward pass and the same gradient during the backward pass. This means they will all update in the same way during training, essentially acting as one neuron rather than multiple neurons with different learned features. Random initialization breaks this symmetry, allowing each neuron to learn different features.\r\n",
    "\r\n",
    "2. **Avoiding Saturation**: Especially for activation functions like sigmoid or tanh, if the weights are too large, the neuron's output can saturate, leading to vanishing gradients. This would mean very small updates during training, making the learning process extremely slow or even stagnant. Randomly initializing weights (typically with small values) helps in preventing this saturation at the beginning of training.\r\n",
    "\r\n",
    "3. **Faster Convergence**: Starting with random weights often leads to faster convergence during training compared to starting with zero or constant weights.\r\n",
    "\r\n",
    "4. **Preventing Dead Neurons**: In the context of certain activation functions like ReLU, initializing with small random weights can prevent neurons from becoming inactive (i.e., always outputting zero) throughout training.\r\n",
    "\r\n",
    "5. **Exploring a Wider Solution Space**: Random initialization allows the model to explore a wider solution space, increasing the chances of finding a more optimaleding up training."
   ]
  },
  {
   "cell_type": "markdown",
   "id": "fdfde47b-e588-4553-b09b-ef5afc9df250",
   "metadata": {},
   "source": [
    "### Gradient descent"
   ]
  },
  {
   "cell_type": "code",
   "execution_count": 50,
   "id": "da05534f-25de-4f7f-a1b6-aae2ec31cb51",
   "metadata": {},
   "outputs": [
    {
     "data": {
      "image/png": "[encoded data removed]",
      "text/plain": [
       "<Figure size 1000x600 with 1 Axes>"
      ]
     },
     "metadata": {},
     "output_type": "display_data"
    }
   ],
   "source": [
    "import numpy as np\n",
    "import matplotlib.pyplot as plt\n",
    "\n",
    "# Define the function and its gradient\n",
    "def f(x):\n",
    "    return (x - 3)**2\n",
    "\n",
    "def gradient(x):\n",
    "    return 2 * (x - 3)\n",
    "\n",
    "# Gradient Descent\n",
    "def gradient_descent(initial_x, learning_rate, n_iterations):\n",
    "    x = initial_x\n",
    "    history = [x]\n",
    "    \n",
    "    for _ in range(n_iterations):\n",
    "        grad = gradient(x)\n",
    "        x -= learning_rate * grad\n",
    "        history.append(x)\n",
    "    \n",
    "    return history\n",
    "\n",
    "# Parameters\n",
    "initial_x = 0\n",
    "learning_rate = 0.1\n",
    "n_iterations = 50\n",
    "\n",
    "# Gradient Descent History\n",
    "x_history = gradient_descent(initial_x, learning_rate, n_iterations)\n",
    "\n",
    "# Plotting\n",
    "x = np.linspace(-1, 7, 400)\n",
    "y = f(x)\n",
    "\n",
    "plt.figure(figsize=(10, 6))\n",
    "plt.plot(x, y, '-r', label='f(x) = (x-3)^2')\n",
    "plt.scatter(x_history, [f(x_val) for x_val in x_history], c='blue', marker='o', label='Gradient Descent Steps')\n",
    "plt.title('Visualization of Gradient Descent')\n",
    "plt.xlabel('x')\n",
    "plt.ylabel('f(x)')\n",
    "plt.legend()\n",
    "plt.grid(True)\n",
    "plt.show()\n"
   ]
  },
  {
   "cell_type": "code",
   "execution_count": 51,
   "id": "5aced3de-cdaa-4fe9-b4de-c4afc90102dd",
   "metadata": {},
   "outputs": [
    {
     "name": "stderr",
     "output_type": "stream",
     "text": [
      "C:\\Users\\Emil\\AppData\\Local\\Temp\\ipykernel_19344\\875961198.py:22: MatplotlibDeprecationWarning: Setting data with a non sequence type is deprecated since 3.7 and will be remove two minor releases later\n",
      "  point.set_data(x_history[frame], f(x_history[frame]))\n"
     ]
    },
    {
     "data": {
      "text/plain": [
       "<matplotlib.animation.FuncAnimation at 0x1d93052e590>"
      ]
     },
     "execution_count": 51,
     "metadata": {},
     "output_type": "execute_result"
    }
   ],
   "source": [
    "from matplotlib.animation import FuncAnimation, PillowWriter\n",
    "\n",
    "# Create the figure and axis objects\n",
    "fig, ax = plt.subplots(figsize=(10, 6))\n",
    "ax.plot(x, y, '-r', label='f(x) = (x-3)^2')\n",
    "point, = ax.plot([], [], 'bo', label='Gradient Descent Step')\n",
    "ax.set_title('Visualization of Gradient Descent Progress')\n",
    "ax.set_xlabel('x')\n",
    "ax.set_ylabel('f(x)')\n",
    "ax.legend()\n",
    "ax.grid(True)\n",
    "ax.set_xlim([-1, 7])\n",
    "ax.set_ylim([-1, 17])\n",
    "\n",
    "\n",
    "def init():\n",
    "    point.set_data([], [])\n",
    "    return (point,)\n",
    "\n",
    "\n",
    "def update(frame):\n",
    "    point.set_data(x_history[frame], f(x_history[frame]))\n",
    "    return (point,)\n",
    "\n",
    "# Create the animation object\n",
    "ani = FuncAnimation(fig, update, frames=np.arange(0, len(x_history)), init_func=init, blit=True, repeat=False)\n",
    "\n",
    "# Display the animation\n",
    "plt.close(fig)\n",
    "ani.save(\"gradient_descent_animation.gif\", writer=PillowWriter(fps=1))\n",
    "ani"
   ]
  },
  {
   "cell_type": "markdown",
   "id": "98b62cac-2892-4919-a80a-476d454a9a08",
   "metadata": {},
   "source": [
    "### Stochastic grad descent"
   ]
  },
  {
   "cell_type": "markdown",
   "id": "d395cf7c-4fd4-427a-a8c0-f1f392154319",
   "metadata": {},
   "source": [
    "\n",
    "\r\n",
    "1. **Gradient Descent (Batch Gradient Descent)**:\r\n",
    "    - **Dataset Usage**: Uses the entire dataset to compute the gradient of the cost function for each iteration of the training algorithm.\r\n",
    "    - **Convergence**: Converges to the minimum in a more straightforward and less oscillatory manner than SGD.\r\n",
    "    - **Computation**: Can be computationally expensive for large datasets because it requires holding the entire dataset in memory and computing the gradient based on the entire dataset.\r\n",
    "    - **Frequency of Updates**: Less frequent updates (once per epoch).\r\n",
    "    - **Parallelization**: Difficult to parallelize across multiple CPUs or GPUs.\r\n",
    "\r\n",
    "2. **Stochastic Gradient Descent (SGD)**:\r\n",
    "    - **Dataset Usage**: Uses only a single data point chosen randomly to compute the gradient at each step.\r\n",
    "    - **Convergence**: Due to the high variance in updates, the trajectory towards the minimum can be oscillatory, making convergence noisy. However, this randomness can also help escape local minima.\r\n",
    "    - **Computation**: Faster than GD as it updates the weights more frequently. Doesn't require the entire dataset in memory at once.\r\n",
    "    - **Frequency of Updates**: Very frequent updates (once per data point).\r\n",
    "    - **Parallelization**: Difficult to parallelize since the update depends on a single data point at a time.\r\n",
    "\r\n",
    "3. **Mini-Batch Gradient Descent**:\r\n",
    "    - **Dataset Usage**: Uses a small random subset (batch) of the data, rather than the full dataset or a single data point, to compute the gradient at each step.\r\n",
    "    - **Convergence**: Tries to combine the best of both GD and SGD. It converges faster than both GD (since it doesn't use the whole dataset) and SGD (since the update direction is based on more than one example, reducing variance).\r\n",
    "    - **Computation**: Allows a balance between computational efficiency (as in GD) and update frequency (as in SGD). Can take advantage of hardware optimization in matrix operations, especially when using GPUs.\r\n",
    "    - **Frequency of Updates**: More frequent than GD but less frequent than SGD. The frequency depends on the batch size.\r\n",
    "    - **Parallelization**: Easier to parallelize compared to SGD because multiple data points can be pSssed at once.\r\n",
    "\r\n",
    "**In summary**:\r\n",
    "- **GD** provides the most direct path to the minimum but can be slow and computationally intensive for large datasets.\r\n",
    "- **SGD** provides faster updates but with a noisy trajectory. Its randomness can help escape local minima but might also prevent settling in the global minimum.\r\n",
    "- **Mini-Batch GD** strikes a balance between GD and SGD, making it one of the most popular optimization algorithms in deep learning, especially when combined with techniques like momentum or adaptive learning rates."
   ]
  },
  {
   "cell_type": "code",
   "execution_count": null,
   "id": "48ff67e6-edb8-4fde-a6a5-0e4af894020d",
   "metadata": {},
   "outputs": [],
   "source": []
  }
 ],
 "metadata": {
  "kernelspec": {
   "display_name": "Python 3 (ipykernel)",
   "language": "python",
   "name": "python3"
  },
  "language_info": {
   "codemirror_mode": {
    "name": "ipython",
    "version": 3
   },
   "file_extension": ".py",
   "mimetype": "text/x-python",
   "name": "python",
   "nbconvert_exporter": "python",
   "pygments_lexer": "ipython3",
   "version": "3.11.1"
  }
 },
 "nbformat": 4,
 "nbformat_minor": 5
}
